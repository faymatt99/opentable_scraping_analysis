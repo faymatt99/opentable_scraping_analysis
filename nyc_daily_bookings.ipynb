{
 "cells": [
  {
   "cell_type": "code",
   "execution_count": 56,
   "id": "dac0011a",
   "metadata": {},
   "outputs": [],
   "source": [
    "from selenium import webdriver\n",
    "from bs4 import BeautifulSoup as soup\n",
    "import re\n",
    "import time\n",
    "import csv\n",
    "import datetime"
   ]
  },
  {
   "cell_type": "code",
   "execution_count": 60,
   "id": "2f3c60ee",
   "metadata": {},
   "outputs": [],
   "source": [
    "def bookings_today(borough):\n",
    "    today = datetime.datetime.today().strftime('%Y-%m-%d')\n",
    "    tomorrow = (datetime.datetime.today()+datetime.timedelta(days=1)).strftime('%Y-%m-%d')\n",
    "    \n",
    "    boroughs = {'manhattan':'16', 'bronx':'324', 'queens':'17', 'staten_island':'18', 'brooklyn':'24'}\n",
    "    \n",
    "    sel_borough = boroughs[borough]\n",
    "    \n",
    "    url = f'https://www.opentable.com/s?dateTime={tomorrow}T22%3A00%3A00&covers=1&metroId=8&regionIds%5B0%5D={sel_borough}&neighborhoodIds%5B0%5D=&term=&page=1'\n",
    "    driver=webdriver.Chrome()\n",
    "    driver.get(url)\n",
    "    html = driver.page_source\n",
    "    time.sleep(0.1)\n",
    "    driver.close()\n",
    "    \n",
    "    results_soup = soup(html, 'html.parser')\n",
    "    total_restaurants = int(re.search('\\d+', results_soup.find('h3', attrs = {\"class\" : \"_6X5n-Vu8eAbxx_nrEuxjc\", \"data-test\" : \"multi-search-total-count\"}).string).group(0))\n",
    "    if total_restaurants % 100 == 0:\n",
    "        num_results_pages = (total_restaurants/100)\n",
    "    else:\n",
    "        num_results_pages = int((total_restaurants/100) + 1)\n",
    "    \n",
    "    print(num_results_pages, ' pages of results')\n",
    "    bookings_list = []\n",
    "    \n",
    "    for i in range(0, int(num_results_pages)):\n",
    "        page_i = f'https://www.opentable.com/s?dateTime={tomorrow}T22%3A00%3A00&covers=1&metroId=8&regionIds%5B0%5D={sel_borough}&neighborhoodIds%5B0%5D=&term=&page={i+1}'     \n",
    "        driver=webdriver.Chrome()\n",
    "        driver.get(page_i)\n",
    "        \n",
    "        # scroll down page incrementally to load restaurant elements\n",
    "        y = 500\n",
    "        for timer in range(0,70):\n",
    "            driver.execute_script(\"window.scrollTo(0, \"+str(y)+\")\")\n",
    "            y += 500\n",
    "            time.sleep(0.05)\n",
    "        page_i_html = driver.page_source\n",
    "        time.sleep(0.1)\n",
    "        driver.close()\n",
    "        \n",
    "        text = soup(page_i_html, 'html.parser')\n",
    "        restaurants = text.find_all('div', attrs = {\"class\" : \"_3uVfVbI1iLfMbszbU6KoOL\"})\n",
    "        \n",
    "        for restaurant in restaurants:\n",
    "            \n",
    "            restaurant_child = restaurant.find('a', attrs = {\"class\":\"_1e9PcCDb012hY4BcGfraQB\"})\n",
    "            \n",
    "            # get restaurant url\n",
    "            rest_url = restaurant_child.get('href')\n",
    "            \n",
    "            booked_raw = restaurant.find_all('span', attrs = {\"class\": \"_2VIffaVUDxw_-tEh-6XOB_ _2EluNCOTdgGq9H4SxGZwUg\"})\n",
    "            booked_today = 0\n",
    "            if not (booked_raw is None):\n",
    "                for span in booked_raw:\n",
    "                    if 'Booked' in span.string:\n",
    "                        booked_today = int(re.search('\\d+', span.string).group(0)) \n",
    "            bookings_keys = ['url', today]\n",
    "            bookings_dict = dict(zip(bookings_keys, [None]*2))\n",
    "            bookings_dict['url'] = rest_url\n",
    "            bookings_dict[today] = booked_today\n",
    "            \n",
    "           \n",
    "            bookings_list.append(bookings_dict)\n",
    "            \n",
    "        i+=1\n",
    "    \n",
    "    \n",
    "    headings_list = ['url', today]\n",
    "    with open(f'bookings_{borough}_{today}_2.csv', 'w', encoding = 'utf-8', newline='') as csvfile:\n",
    "        csv_writer = csv.writer(csvfile)\n",
    "        csv_writer.writerow(headings_list)\n",
    "\n",
    "        for item in bookings_list:\n",
    "            csv_writer.writerow(item.values())"
   ]
  },
  {
   "cell_type": "code",
   "execution_count": 58,
   "id": "e25bf75f",
   "metadata": {},
   "outputs": [],
   "source": [
    "boroughs_list = ['manhattan', 'bronx', 'queens', 'staten_island', 'brooklyn']"
   ]
  },
  {
   "cell_type": "code",
   "execution_count": 61,
   "id": "1b7df0ec",
   "metadata": {},
   "outputs": [
    {
     "name": "stdout",
     "output_type": "stream",
     "text": [
      "12  pages of results\n",
      "1  pages of results\n",
      "1.0  pages of results\n",
      "1  pages of results\n",
      "1.0  pages of results\n"
     ]
    }
   ],
   "source": [
    "for item in boroughs_list:\n",
    "    bookings_today(item)"
   ]
  }
 ],
 "metadata": {
  "kernelspec": {
   "display_name": "Python 3",
   "language": "python",
   "name": "python3"
  },
  "language_info": {
   "codemirror_mode": {
    "name": "ipython",
    "version": 3
   },
   "file_extension": ".py",
   "mimetype": "text/x-python",
   "name": "python",
   "nbconvert_exporter": "python",
   "pygments_lexer": "ipython3",
   "version": "3.8.8"
  }
 },
 "nbformat": 4,
 "nbformat_minor": 5
}
