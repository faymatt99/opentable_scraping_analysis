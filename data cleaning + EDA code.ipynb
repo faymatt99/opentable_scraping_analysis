{
 "cells": [
  {
   "cell_type": "code",
   "execution_count": 1,
   "id": "a31105b9",
   "metadata": {
    "collapsed": true
   },
   "outputs": [
    {
     "ename": "NameError",
     "evalue": "name 'df' is not defined",
     "output_type": "error",
     "traceback": [
      "\u001b[1;31m---------------------------------------------------------------------------\u001b[0m",
      "\u001b[1;31mNameError\u001b[0m                                 Traceback (most recent call last)",
      "\u001b[1;32m<ipython-input-1-71c55b6a2c47>\u001b[0m in \u001b[0;36m<module>\u001b[1;34m\u001b[0m\n\u001b[0;32m      6\u001b[0m \u001b[1;33m\u001b[0m\u001b[0m\n\u001b[0;32m      7\u001b[0m \u001b[1;31m# remove non-member restaurants, they have no further information populated\u001b[0m\u001b[1;33m\u001b[0m\u001b[1;33m\u001b[0m\u001b[1;33m\u001b[0m\u001b[0m\n\u001b[1;32m----> 8\u001b[1;33m \u001b[0mdf\u001b[0m \u001b[1;33m=\u001b[0m \u001b[0mdf\u001b[0m\u001b[1;33m[\u001b[0m\u001b[0mdf\u001b[0m\u001b[1;33m[\u001b[0m\u001b[1;34m'is_member'\u001b[0m\u001b[1;33m]\u001b[0m \u001b[1;33m!=\u001b[0m \u001b[1;36m0\u001b[0m\u001b[1;33m]\u001b[0m\u001b[1;33m\u001b[0m\u001b[1;33m\u001b[0m\u001b[0m\n\u001b[0m\u001b[0;32m      9\u001b[0m \u001b[1;33m\u001b[0m\u001b[0m\n\u001b[0;32m     10\u001b[0m \u001b[1;31m# convert price_tier to numeric\u001b[0m\u001b[1;33m\u001b[0m\u001b[1;33m\u001b[0m\u001b[1;33m\u001b[0m\u001b[0m\n",
      "\u001b[1;31mNameError\u001b[0m: name 'df' is not defined"
     ]
    }
   ],
   "source": [
    "import numpy as np\n",
    "import pandas as pd\n",
    "import matplotlib.pyplot as plt\n",
    "import seaborn as sns\n",
    "import re\n",
    "from scipy import stats\n",
    "\n",
    "\n",
    "# remove non-member restaurants, they have no further information populated\n",
    "df = df[df['is_member'] != 0]\n",
    "\n",
    "# convert price_tier to numeric\n",
    "price_tier_dict = {'$30 and under': 1, '$31 to $50': 2, '$50 and over':3}\n",
    "df['price_tier'] = df['price_tier'].map(lambda x: price_tier_dict[x])\n",
    "\n",
    "\n",
    "# clean review_count and conver to int\n",
    "df['review_count']= df['review_count'].map(lambda s: str.replace(s, ' Reviews', '')).map(lambda s: str.replace(s, 'No', '0')).map(lambda x: int(x))\n",
    "\n",
    "# any restaurant with no reviews has no category reviews\n",
    "df[df['overall'].isnull()].loc[:,['name','overall', 'food', 'service', 'ambience','value']]\n",
    "\n",
    "# create newly_added field\n",
    "df['newly_added'] = df['name'].map(lambda s: 'Newly added ' in s)\n",
    "\n",
    "# clean name field\n",
    "df['name'] = df['name'].map(lambda s: str.replace(s, ' restaurant', '')).map(lambda s: str.replace(s, 'Newly added ', ''))\n",
    "\n",
    "# remove duplicates\n",
    "dupe_mask = df.duplicated(keep = 'first') == False\n",
    "df = df[dupe_mask]\n",
    "\n",
    "# convert promoted status to bool\n",
    "df['promoted'] = df['promoted'].apply(lambda x: bool(x))\n",
    "\n",
    "# create weighted overall rating column\n",
    "df['weighted_overall'] = df['review_count'] * df['overall']\n",
    "\n",
    "# create total covid precautions column\n",
    "df['precautions'] = sum((df['sanitizing'], df['distancing'], df['ppe'], df['screening']))\n",
    "\n",
    "# convert NaN values in precautions to 0s\n",
    "df['precautions'] = df['precautions'].apply(lambda x: 0 if pd.isnull(x) else x)\n",
    "df['sanitizing'] = df['sanitizing'].apply(lambda x: 0 if pd.isnull(x) else x)\n",
    "df['ppe'] = df['ppe'].apply(lambda x: 0 if pd.isnull(x) else x)\n",
    "df['screening'] = df['screening'].apply(lambda x: 0 if pd.isnull(x) else x)\n",
    "df['distancing'] = df['distancing'].apply(lambda x: 0 if pd.isnull(x) else x)\n",
    "\n",
    "# correctly handle encoding of special characters in name field\n",
    "df['name'] = df['name'].apply(lambda s: bytes(s,'iso-8859-1').decode('utf-8'))\n",
    "\n",
    "# clean query fields out of restaurant page url\n",
    "df['url'] = df['url'].apply(lambda s: re.search('^.*\\?', s).group(0)).apply(lambda s: s[:-1])\n",
    "\n",
    "# remove unnamed columns\n",
    "df = df.loc[:, ~df.columns.str.contains('^Unnamed')]\n",
    "\n",
    "# fix noise null values\n",
    "df['noise'] = df['noise'].map(lambda s: None if s not in ['Quiet', 'Moderate', 'Energetic'] else s)\n",
    "\n",
    "# filter to remove outliers in column col\n",
    "df_no_out = df[(np.abs(df.col-df.col.mean())<=(3*df.col.std()))]"
   ]
  },
  {
   "cell_type": "code",
   "execution_count": null,
   "id": "365f43f9",
   "metadata": {},
   "outputs": [],
   "source": [
    "# import bookings from given day, format urls, update total bookings\n",
    "total_bookings = pd.read_csv('total_bookings_day.csv')\n",
    "\n",
    "\n",
    "bookings_today = pd.DataFrame()\n",
    "boroughs = ['manhattan','bronx', 'queens', 'brooklyn', 'staten_island']\n",
    "date = '2021-07-XX' # today's date\n",
    "for borough in boroughs:\n",
    "    bookings_today = bookings_today.append(pd.read_csv(f'./bookings/bookings_{borough}_{date}.csv'), ignore_index = True)\n",
    "\n",
    "bookings_today['url'] = bookings_today['url'].apply(lambda s: re.search('^.*\\?', s).group(0)).apply(lambda s: s[:-1])\n",
    "\n",
    "total_bookings_day = pd.merge(total_bookings, bookings_today, on='url', how='outer')\n",
    "\n",
    "total_bookings.to_csv(f'total_bookings_day.csv', index = False)"
   ]
  },
  {
   "cell_type": "code",
   "execution_count": 2,
   "id": "a85b8088",
   "metadata": {},
   "outputs": [
    {
     "ename": "NameError",
     "evalue": "name 'total_bookings' is not defined",
     "output_type": "error",
     "traceback": [
      "\u001b[1;31m---------------------------------------------------------------------------\u001b[0m",
      "\u001b[1;31mNameError\u001b[0m                                 Traceback (most recent call last)",
      "\u001b[1;32m<ipython-input-2-549913f3fb12>\u001b[0m in \u001b[0;36m<module>\u001b[1;34m\u001b[0m\n\u001b[0;32m      2\u001b[0m \u001b[1;33m\u001b[0m\u001b[0m\n\u001b[0;32m      3\u001b[0m \u001b[0mrest_df\u001b[0m \u001b[1;33m=\u001b[0m \u001b[0mpd\u001b[0m\u001b[1;33m.\u001b[0m\u001b[0mread_csv\u001b[0m\u001b[1;33m(\u001b[0m\u001b[1;34m'nyc_restaurants_clean.csv'\u001b[0m\u001b[1;33m,\u001b[0m \u001b[0mencoding\u001b[0m \u001b[1;33m=\u001b[0m \u001b[1;34m'utf-8'\u001b[0m\u001b[1;33m)\u001b[0m\u001b[1;33m\u001b[0m\u001b[1;33m\u001b[0m\u001b[0m\n\u001b[1;32m----> 4\u001b[1;33m \u001b[0mdf\u001b[0m \u001b[1;33m=\u001b[0m \u001b[0mpd\u001b[0m\u001b[1;33m.\u001b[0m\u001b[0mmerge\u001b[0m\u001b[1;33m(\u001b[0m\u001b[0mrest_df\u001b[0m\u001b[1;33m,\u001b[0m \u001b[0mtotal_bookings\u001b[0m\u001b[1;33m,\u001b[0m \u001b[0mon\u001b[0m\u001b[1;33m=\u001b[0m\u001b[1;34m'url'\u001b[0m\u001b[1;33m,\u001b[0m \u001b[0mhow\u001b[0m \u001b[1;33m=\u001b[0m \u001b[1;34m'left'\u001b[0m\u001b[1;33m)\u001b[0m\u001b[1;33m\u001b[0m\u001b[1;33m\u001b[0m\u001b[0m\n\u001b[0m\u001b[0;32m      5\u001b[0m \u001b[1;33m\u001b[0m\u001b[0m\n\u001b[0;32m      6\u001b[0m \u001b[1;31m# calculate average bookings\u001b[0m\u001b[1;33m\u001b[0m\u001b[1;33m\u001b[0m\u001b[1;33m\u001b[0m\u001b[0m\n",
      "\u001b[1;31mNameError\u001b[0m: name 'total_bookings' is not defined"
     ]
    }
   ],
   "source": [
    "# merging restaurants and bookings\n",
    "\n",
    "rest_df = pd.read_csv('nyc_restaurants_clean.csv', encoding = 'utf-8')\n",
    "df = pd.merge(rest_df, total_bookings, on='url', how = 'left')\n",
    "\n",
    "# calculate average bookings\n",
    "\n",
    "avg_bookings = df.loc[: , \"7/19/2021\":]\n",
    "df['avg_bookings'] = avg_bookings.mean(axis = 1)\n",
    "df.reset_index(inplace = True, drop = True)\n",
    "\n",
    "# remove unnamed columns\n",
    "df = df.loc[:, ~df.columns.str.contains('^Unnamed')]\n",
    "\n",
    "# fix noise null values\n",
    "df['noise'] = df['noise'].map(lambda s: None if s not in ['Quiet', 'Moderate', 'Energetic'] else s)\n",
    "\n",
    "# the same restaurant sometimes comes up twice in the results for one day of bookings\n",
    "# this groups by url and averages avg_bookings, other fields left the same\n",
    "\n",
    "url_bookings_means = df.groupby(['url'], as_index = False).agg({'avg_bookings':'mean'})\n",
    "df = df[df['url'].duplicated() == False]\n",
    "df = df.drop('avg_bookings', 1)\n",
    "df = pd.merge(df, url_bookings_means, how = 'inner', on = 'url')\n",
    "\n",
    "df.to_csv('X_day_results.csv', index = False) # then can just import this to have compiled results\n",
    "\n",
    "# replace restaurants that have no bookings on any day examined with 0\n",
    "df['avg_bookings'] = df['avg_bookings'].fillna(0)\n",
    "\n",
    "# add bool precautions column\n",
    "df4['any_precautions'] = df4['precautions'] != 0\n",
    "\n",
    "# filter to remove outliers in column col\n",
    "df_no_out = df[(np.abs(df.col-df.col.mean())<=(3*df.col.std()))]"
   ]
  },
  {
   "cell_type": "code",
   "execution_count": null,
   "id": "44c14e3b",
   "metadata": {},
   "outputs": [],
   "source": [
    "# EDA\n",
    "\n",
    "# filter restaurants that have null\n",
    "\n",
    "df = df[~df['weighted_overall'].isnull()==True] # reviews\n",
    "df = df[~df['avg_bookings'].isnull()==True] # bookings\n",
    "\n",
    "# filter restaurants that have 0 bookings for all days observed\n",
    "df_bk = df[df['avg_bookings']!= 0]\n",
    "\n",
    "# filter for promoted status\n",
    "promoted = df[df['promoted']==True]\n",
    "not_promoted = df[df['promoted']==False]"
   ]
  }
 ],
 "metadata": {
  "kernelspec": {
   "display_name": "Python 3",
   "language": "python",
   "name": "python3"
  },
  "language_info": {
   "codemirror_mode": {
    "name": "ipython",
    "version": 3
   },
   "file_extension": ".py",
   "mimetype": "text/x-python",
   "name": "python",
   "nbconvert_exporter": "python",
   "pygments_lexer": "ipython3",
   "version": "3.8.8"
  }
 },
 "nbformat": 4,
 "nbformat_minor": 5
}
