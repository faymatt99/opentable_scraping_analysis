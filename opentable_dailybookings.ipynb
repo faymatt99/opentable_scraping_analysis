{
 "cells": [
  {
   "cell_type": "code",
   "execution_count": null,
   "id": "8df4adf4",
   "metadata": {},
   "outputs": [],
   "source": [
    "rest_list = []\n",
    "for restaurant in restaurants:\n",
    "    rest_dict = {}\n",
    "    \n",
    "    restaurant_child = restaurant.find('a', attrs = {\"class\":\"_1e9PcCDb012hY4BcGfraQB\"})\n",
    "    # get restaurant name\n",
    "    rest_dict['name'] = restaurant_child.get('aria-label')\n",
    "    \n",
    "    # get restaurant url\n",
    "    url = restaurant_child.get('href')\n",
    "    rest_dict['url'] = url\n",
    "    \n",
    "    # get times booked today\n",
    "    times_booked_today = restaurant.find('span', attrs = {\"class\": \"_2VIffaVUDxw_-tEh-6XOB_ _2EluNCOTdgGq9H4SxGZwUg\"}).string\n",
    "    if not times_booked_today is None:\n",
    "        rest_dict['bookings_today'] = int(re.search('\\d+', times_booked_today).group(0))\n",
    "    else:\n",
    "        rest_dict['bookings_today'] = 0\n",
    "        \n",
    "    rest_list.append(rest_dict)"
   ]
  }
 ],
 "metadata": {
  "kernelspec": {
   "display_name": "Python 3",
   "language": "python",
   "name": "python3"
  },
  "language_info": {
   "codemirror_mode": {
    "name": "ipython",
    "version": 3
   },
   "file_extension": ".py",
   "mimetype": "text/x-python",
   "name": "python",
   "nbconvert_exporter": "python",
   "pygments_lexer": "ipython3",
   "version": "3.8.8"
  }
 },
 "nbformat": 4,
 "nbformat_minor": 5
}
