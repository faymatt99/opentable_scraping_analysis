{
 "cells": [
  {
   "cell_type": "code",
   "execution_count": 81,
   "id": "b3d3e42b",
   "metadata": {},
   "outputs": [],
   "source": [
    "from selenium import webdriver\n",
    "from bs4 import BeautifulSoup as soup\n",
    "import re\n",
    "\n",
    "page2 = 'https://www.opentable.com/s?covers=1&latitude=40.751637&longitude=-73.986409&corrid=bb294e9c-7c9b-48ae-997c-d1999436a6be&sortBy=rating&metroId=8&queryUnderstandingType=none&page=2'"
   ]
  },
  {
   "cell_type": "code",
   "execution_count": 34,
   "id": "fcb5d25a",
   "metadata": {},
   "outputs": [],
   "source": [
    "# start web browser\n",
    "driver=webdriver.Chrome()\n",
    "\n",
    "# get source code\n",
    "driver.get(page2)\n",
    "y = 500\n",
    "# scroll down page incrementally to load restaurant elements\n",
    "for timer in range(0,50):\n",
    "     driver.execute_script(\"window.scrollTo(0, \"+str(y)+\")\")\n",
    "     y += 500\n",
    "     time.sleep(0.05)\n",
    "results_page = driver.page_source\n",
    "time.sleep(2)\n",
    "\n",
    "# close web browser\n",
    "driver.close()"
   ]
  },
  {
   "cell_type": "code",
   "execution_count": 273,
   "id": "c8fe996a",
   "metadata": {},
   "outputs": [
    {
     "ename": "NameError",
     "evalue": "name 'results_page' is not defined",
     "output_type": "error",
     "traceback": [
      "\u001b[1;31m---------------------------------------------------------------------------\u001b[0m",
      "\u001b[1;31mNameError\u001b[0m                                 Traceback (most recent call last)",
      "\u001b[1;32m<ipython-input-273-58bf30af270a>\u001b[0m in \u001b[0;36m<module>\u001b[1;34m\u001b[0m\n\u001b[1;32m----> 1\u001b[1;33m \u001b[0mresults_html\u001b[0m \u001b[1;33m=\u001b[0m \u001b[0msoup\u001b[0m\u001b[1;33m(\u001b[0m\u001b[0mresults_page\u001b[0m\u001b[1;33m,\u001b[0m \u001b[1;34m'html.parser'\u001b[0m\u001b[1;33m)\u001b[0m\u001b[1;33m\u001b[0m\u001b[1;33m\u001b[0m\u001b[0m\n\u001b[0m\u001b[0;32m      2\u001b[0m \u001b[0mrestaurants\u001b[0m \u001b[1;33m=\u001b[0m \u001b[0mresults_html\u001b[0m\u001b[1;33m.\u001b[0m\u001b[0mfind_all\u001b[0m\u001b[1;33m(\u001b[0m\u001b[1;34m'div'\u001b[0m\u001b[1;33m,\u001b[0m \u001b[0mattrs\u001b[0m \u001b[1;33m=\u001b[0m \u001b[1;33m{\u001b[0m\u001b[1;34m\"class\"\u001b[0m \u001b[1;33m:\u001b[0m \u001b[1;34m\"_3uVfVbI1iLfMbszbU6KoOL\"\u001b[0m\u001b[1;33m}\u001b[0m\u001b[1;33m)\u001b[0m\u001b[1;33m\u001b[0m\u001b[1;33m\u001b[0m\u001b[0m\n\u001b[0;32m      3\u001b[0m \u001b[0mlen\u001b[0m\u001b[1;33m(\u001b[0m\u001b[0mrestaurants\u001b[0m\u001b[1;33m)\u001b[0m\u001b[1;33m\u001b[0m\u001b[1;33m\u001b[0m\u001b[0m\n",
      "\u001b[1;31mNameError\u001b[0m: name 'results_page' is not defined"
     ]
    }
   ],
   "source": [
    "results_html = soup(results_page, 'html.parser')\n",
    "restaurants = results_html.find_all('div', attrs = {\"class\" : \"_3uVfVbI1iLfMbszbU6KoOL\"})\n",
    "len(restaurants)"
   ]
  },
  {
   "cell_type": "code",
   "execution_count": 272,
   "id": "691ae8ab",
   "metadata": {},
   "outputs": [
    {
     "ename": "NameError",
     "evalue": "name 'results_html' is not defined",
     "output_type": "error",
     "traceback": [
      "\u001b[1;31m---------------------------------------------------------------------------\u001b[0m",
      "\u001b[1;31mNameError\u001b[0m                                 Traceback (most recent call last)",
      "\u001b[1;32m<ipython-input-272-1193f55ac16b>\u001b[0m in \u001b[0;36m<module>\u001b[1;34m\u001b[0m\n\u001b[1;32m----> 1\u001b[1;33m \u001b[0munloaded\u001b[0m \u001b[1;33m=\u001b[0m \u001b[0mresults_html\u001b[0m\u001b[1;33m.\u001b[0m\u001b[0mfind_all\u001b[0m\u001b[1;33m(\u001b[0m\u001b[1;34m'div'\u001b[0m\u001b[1;33m,\u001b[0m \u001b[0mattrs\u001b[0m \u001b[1;33m=\u001b[0m \u001b[1;33m{\u001b[0m\u001b[1;34m\"class\"\u001b[0m \u001b[1;33m:\u001b[0m \u001b[1;34m\"_2XzcUvJpjP8jz_0tEdigq0\"\u001b[0m\u001b[1;33m}\u001b[0m\u001b[1;33m)\u001b[0m\u001b[1;33m\u001b[0m\u001b[1;33m\u001b[0m\u001b[0m\n\u001b[0m\u001b[0;32m      2\u001b[0m \u001b[0mlen\u001b[0m\u001b[1;33m(\u001b[0m\u001b[0munloaded\u001b[0m\u001b[1;33m)\u001b[0m\u001b[1;33m\u001b[0m\u001b[1;33m\u001b[0m\u001b[0m\n",
      "\u001b[1;31mNameError\u001b[0m: name 'results_html' is not defined"
     ]
    }
   ],
   "source": [
    "unloaded = results_html.find_all('div', attrs = {\"class\" : \"_2XzcUvJpjP8jz_0tEdigq0\"})\n",
    "len(unloaded)"
   ]
  },
  {
   "cell_type": "code",
   "execution_count": 73,
   "id": "645724b6",
   "metadata": {},
   "outputs": [
    {
     "data": {
      "text/plain": [
       "'https://www.opentable.com/r/coarse-nyc-new-york-2?corrid=9a2f5a53-4925-4f21-9380-46d641cb1616&avt=eyJ2IjoyLCJtIjoxLCJwIjoxLCJzIjowLCJuIjowfQ&p=1&sd=2021-07-17T19%3A00%3A00'"
      ]
     },
     "execution_count": 73,
     "metadata": {},
     "output_type": "execute_result"
    }
   ],
   "source": [
    "rest_0 = restaurants[0]\n",
    "\n",
    "rest_0_a = rest_0.find('a', attrs = {\"class\":\"_1e9PcCDb012hY4BcGfraQB\"})\n",
    "rest_0_a.get('href')"
   ]
  },
  {
   "cell_type": "code",
   "execution_count": 113,
   "id": "55540c28",
   "metadata": {},
   "outputs": [],
   "source": [
    "rest_list = []\n",
    "for restaurant in restaurants:\n",
    "    rest_dict = {}\n",
    "    \n",
    "    restaurant_child = restaurant.find('a', attrs = {\"class\":\"_1e9PcCDb012hY4BcGfraQB\"})\n",
    "    # get restaurant name\n",
    "    rest_dict['name'] = restaurant_child.get('aria-label')\n",
    "    \n",
    "    # get restaurant url\n",
    "    url = restaurant_child.get('href')\n",
    "    rest_dict['url'] = url\n",
    "    \n",
    "    # get promoted status\n",
    "    rest_dict['promoted'] = 1 if restaurant.get('data-promoted') == 'true' else 0\n",
    "    \n",
    "    # get price tier\n",
    "    rest_dict['price_tier'] = restaurant.find('span', attrs = {\"class\":\"_3sSkv7iJ6Tl1VxRjYAjp13\"}).get_text()\n",
    "    \n",
    "    # get times booked today\n",
    "    times_booked_today = restaurant.find('span', attrs = {\"class\": \"_2VIffaVUDxw_-tEh-6XOB_ _2EluNCOTdgGq9H4SxGZwUg\"}).string\n",
    "    if not times_booked_today is None:\n",
    "        rest_dict['bookings_today'] = int(re.search('\\d+', times_booked_today).group(0))\n",
    "    else:\n",
    "        rest_dict['bookings_today'] = 0\n",
    "        \n",
    "    rest_list.append(rest_dict)"
   ]
  },
  {
   "cell_type": "code",
   "execution_count": 224,
   "id": "500d0399",
   "metadata": {},
   "outputs": [
    {
     "data": {
      "text/plain": [
       "'https://www.opentable.com/r/merchants-cigar-bar-new-york?corrid=9a2f5a53-4925-4f21-9380-46d641cb1616&avt=eyJ2IjoyLCJtIjoxLCJwIjowLCJzIjowLCJuIjowfQ&p=1&sd=2021-07-17T19%3A00%3A00'"
      ]
     },
     "execution_count": 224,
     "metadata": {},
     "output_type": "execute_result"
    }
   ],
   "source": [
    "a = rest_list[1]\n",
    "a['url']"
   ]
  },
  {
   "cell_type": "code",
   "execution_count": 225,
   "id": "805f3230",
   "metadata": {
    "scrolled": true
   },
   "outputs": [
    {
     "data": {
      "text/plain": [
       "{'url': 'https://www.opentable.com/r/merchants-cigar-bar-new-york?corrid=9a2f5a53-4925-4f21-9380-46d641cb1616&avt=eyJ2IjoyLCJtIjoxLCJwIjowLCJzIjowLCJuIjowfQ&p=1&sd=2021-07-17T19%3A00%3A00',\n",
       " 'name': 'Merchants Cigar Bar restaurant',\n",
       " 'promoted': 0,\n",
       " 'price_tier': '$$$$',\n",
       " 'bookings_today': 5}"
      ]
     },
     "execution_count": 225,
     "metadata": {},
     "output_type": "execute_result"
    }
   ],
   "source": [
    "rest_list[1]"
   ]
  },
  {
   "cell_type": "code",
   "execution_count": 270,
   "id": "6221efba",
   "metadata": {},
   "outputs": [
    {
     "data": {
      "text/plain": [
       "{'review_count': 24,\n",
       " 'overall': 4.9,\n",
       " 'food': 4.6,\n",
       " 'service': 4.8,\n",
       " 'ambience': 4.7,\n",
       " 'value': 4.5,\n",
       " 'noise': 'Quiet',\n",
       " 'pct_recommended': 86,\n",
       " 'neighborhood': 'Upper East Side',\n",
       " 'hours': 'Wed–Sun 5:00 pm–11:00 pm',\n",
       " 'cuisines': 'American',\n",
       " 'dining_style': 'Casual Elegant',\n",
       " 'dress_code': 'Smart Casual',\n",
       " 'chef': 'Antemlo Ambrosio',\n",
       " 'tags': 'Bar/Lounge, Beer, Cigar Room, Cocktails, Corkage Fee, Full Bar, Gluten-free Menu, Indoor Smoking Area, Wine',\n",
       " 'Cleaning & Sanitizing': 1,\n",
       " 'Physical Distancing': 1,\n",
       " 'Protective Equipment': 1,\n",
       " 'Screening': 1}"
      ]
     },
     "execution_count": 270,
     "metadata": {},
     "output_type": "execute_result"
    }
   ],
   "source": [
    "# def get_restaurant_info(url, curr_rest_dict):\n",
    "subdriver=webdriver.Chrome()\n",
    "subdriver.get(a['url'])\n",
    "subdriver.maximize_window() # maximize to make sure sidebar is loaded\n",
    "rest_html = subdriver.page_source\n",
    "time.sleep(0.05)\n",
    "subdriver.close()\n",
    "\n",
    "curr_rest = soup(rest_html, 'html.parser')\n",
    "curr_rest_dict = {}\n",
    "\n",
    "# get number of reviews\n",
    "curr_rest_dict['review_count'] = int(re.search('\\d+', curr_rest.find('div', attrs = {\"class\" : \"oc-reviews-c57b151d\"}).string).group(0))\n",
    "\n",
    "# get overall rating and subratings\n",
    "curr_rest_dict['overall'] = float(curr_rest.find('div', attrs = {\"class\" : \"oc-reviews-491257d8\"}).span.string)\n",
    "subreviews = curr_rest.find_all('div', attrs = {\"class\" : \"oc-reviews-15d38b07\"})\n",
    "curr_rest_dict['food'] = float(subreviews[0].string)\n",
    "curr_rest_dict['service'] = float(subreviews[1].string)\n",
    "curr_rest_dict['ambience'] = float(subreviews[2].string)\n",
    "curr_rest_dict['value'] = float(subreviews[3].string)\n",
    "\n",
    "# get noise level\n",
    "curr_rest_dict['noise'] = curr_rest.find('span', attrs = {\"class\" : \"oc-reviews-624ebf8b\"}).string\n",
    "\n",
    "# get percent of reviewers who would recommended to a friend\n",
    "rec_string = re.search('\\d+%', curr_rest.find_all('div', attrs = {\"class\" : \"oc-reviews-dfc07aec\"})[1].get_text()).group(0)\n",
    "curr_rest_dict['pct_recommended'] = int(re.search('\\d+', rec_string).group(0))\n",
    "\n",
    "# add placeholder keys for sidebar information\n",
    "placeholder = ['neighborhood', 'hours', 'cuisines', 'dining_style', 'dress_code', 'chef', 'tags']\n",
    "for i in range(len(placeholder)):\n",
    "    curr_rest_dict[placeholder[i]] = None\n",
    "\n",
    "# zip (field, value) tuples of restaurant page sidebar information into details_list\n",
    "sidebar = curr_rest.find('div', attrs = {\"class\":\"_1e466fbf\"})\n",
    "details = sidebar.find_all('div', attrs = {\"class\":\"df8add00\"})\n",
    "details_list = [zip(item.find_all('div', attrs = {\"class\":\"c3981cf8 _965a91d5\"}), \n",
    "                    item.find_all('div', attrs = {\"class\":\"e7ff71b6 b2f6d1a4\"})) for item in details] \n",
    "for i in range(len(details_list)):\n",
    "    for x, y in details_list[i]:\n",
    "        details_list[i] = (x.string, y.string)\n",
    "\n",
    "# filter details_list for desired information, add info to dict under placeholder keys\n",
    "desired_details = zip(['Neighborhood', 'Hours of operation', 'Cuisines', 'Dining Style', 'Dress code', '(?i)(.*chef.*)', 'Additional'], placeholder)\n",
    "\n",
    "for x, y in desired_details:\n",
    "    for a, b in details_list:\n",
    "        if re.search(x, a):\n",
    "            curr_rest_dict[y] = b            \n",
    "\n",
    "# add placeholder keys for safety information\n",
    "safety_categories = ['Cleaning & Sanitizing', 'Physical Distancing', 'Protective Equipment','Screening']\n",
    "for i in range(len(safety_categories)):\n",
    "    curr_rest_dict[safety_categories[i]] = 0\n",
    "    \n",
    "# get COVID-19 safety information\n",
    "safety_html = curr_rest.find_all('div', attrs = {\"class\" : \"_77b505d0 _965a91d5\"})\n",
    "safety_features = [item.find('span').string for item in safety_html]\n",
    "\n",
    "for i in range(len(safety_categories)):\n",
    "    for j in range(len(safety_features)):\n",
    "        if safety_categories[i]==safety_features[j]:\n",
    "            curr_rest_dict[safety_categories[i]] = 1\n",
    "\n",
    "curr_rest_dict"
   ]
  },
  {
   "cell_type": "code",
   "execution_count": 65,
   "id": "2613eb3e",
   "metadata": {},
   "outputs": [
    {
     "data": {
      "text/plain": [
       "0"
      ]
     },
     "execution_count": 65,
     "metadata": {},
     "output_type": "execute_result"
    }
   ],
   "source": [
    "unloaded = text.find_all('div', attrs = {\"class\" : \"_2XzcUvJpjP8jz_0tEdigq0\"})\n",
    "len(unloaded)"
   ]
  }
 ],
 "metadata": {
  "kernelspec": {
   "display_name": "Python 3",
   "language": "python",
   "name": "python3"
  },
  "language_info": {
   "codemirror_mode": {
    "name": "ipython",
    "version": 3
   },
   "file_extension": ".py",
   "mimetype": "text/x-python",
   "name": "python",
   "nbconvert_exporter": "python",
   "pygments_lexer": "ipython3",
   "version": "3.8.8"
  }
 },
 "nbformat": 4,
 "nbformat_minor": 5
}
